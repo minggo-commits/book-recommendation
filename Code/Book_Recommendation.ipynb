{
  "cells": [
    {
      "cell_type": "markdown",
      "metadata": {
        "id": "z_YDlo5aF1B3"
      },
      "source": [
        "#Book Recommendation"
      ]
    },
    {
      "cell_type": "markdown",
      "metadata": {
        "id": "DH3bg3dMLmsw"
      },
      "source": [
        "Dataset yang digunakan dalam proyek ini adalah Book-Crossing Dataset. Dataset ini berisi informasi tentang pengguna, buku, dan rating yang diberikan oleh pengguna terhadap buku. Dataset ini dapat diunduh melalui tautan berikut:\n",
        "[Book-Crossing Dataset](https://www.kaggle.com/datasets/arashnic/book-recommendation-dataset?select=Ratings.csv) atau https://www.kaggle.com/datasets/arashnic/book-recommendation-dataset?select=Ratings.csv\n",
        "\n",
        "\n",
        "**Variabel pada dataset**\n",
        "\n",
        "| Dataset  | Variabel              | Deskripsi |\n",
        "|:---------|:----------------------|:----------|\n",
        "| Users    | User-ID                | ID unik untuk setiap pengguna |\n",
        "|          | Location               | Lokasi pengguna|\n",
        "|          | Age                    | Usia pengguna |\n",
        "| Books    | ISBN                   | Nomor ISBN buku |\n",
        "|          | Book-Title             | Judul buku. |\n",
        "|          | Book-Author            | Nama penulis buku|\n",
        "|          | Year-Of-Publication    | Tahun terbit buku. |\n",
        "|          | Publisher              | Nama penerbit buku. |\n",
        "|          | Image-URL-S            | URL gambar sampul berukuran kecil. |\n",
        "|          | Image-URL-M            | URL gambar sampul berukuran sedang. |\n",
        "|          | Image-URL-L            | URL gambar sampul berukuran besar. |\n",
        "| Ratings  | User-ID                | ID pengguna yang memberikan rating. |\n",
        "|          | ISBN                   | ISBN buku yang dinilai. |\n",
        "|          | Book-Rating            | Rating yang diberikan (0 untuk implicit, 1-10 untuk explicit rating). |"
      ]
    },
    {
      "cell_type": "markdown",
      "metadata": {
        "id": "EbRDe8BWFujr"
      },
      "source": [
        "##Data Understanding"
      ]
    },
    {
      "cell_type": "markdown",
      "metadata": {
        "id": "jRjqREeb3RBG"
      },
      "source": [
        "Import library yang dibutuhkan"
      ]
    },
    {
      "cell_type": "code",
      "execution_count": 1,
      "metadata": {
        "id": "0J1k061JECE2"
      },
      "outputs": [],
      "source": [
        "# !pip install --upgrade numpy\n",
        "# !pip install --upgrade gensim\n",
        "# !pip install scikit-surprise"
      ]
    },
    {
      "cell_type": "code",
      "execution_count": 2,
      "metadata": {
        "id": "xNQEKrDvEvuH"
      },
      "outputs": [],
      "source": [
        "import pandas as pd\n",
        "import numpy as np\n",
        "import matplotlib.pyplot as plt\n",
        "import seaborn as sns\n",
        "import kagglehub\n",
        "import shutil\n",
        "import os\n",
        "from gensim.models import Word2Vec\n",
        "from sklearn.metrics.pairwise import cosine_similarity\n",
        "from sklearn.feature_extraction.text import TfidfVectorizer\n",
        "from surprise import SVD\n",
        "from surprise import Dataset, Reader\n",
        "from surprise.model_selection import train_test_split, GridSearchCV"
      ]
    },
    {
      "cell_type": "markdown",
      "metadata": {
        "id": "vzW05-Sk3XVf"
      },
      "source": [
        "Mendownload dataset yang berasar dari platform kaggle"
      ]
    },
    {
      "cell_type": "code",
      "execution_count": 3,
      "metadata": {
        "colab": {
          "base_uri": "https://localhost:8080/"
        },
        "id": "aKUVcOJzE14i",
        "outputId": "301a655b-f8d8-4770-d376-3b21007e1c14"
      },
      "outputs": [
        {
          "output_type": "stream",
          "name": "stdout",
          "text": [
            "Path to dataset files: /kaggle/input/book-recommendation-dataset\n",
            "Files in dataset folder:\n",
            "['Ratings.csv', 'Users.csv', 'classicRec.png', 'Books.csv', 'DeepRec.png', 'recsys_taxonomy2.png']\n",
            "✅ Dataset berhasil disalin ke /content\n",
            "Isi folder /content:\n",
            "['.config', 'classicRec.png', 'Users.csv', 'Ratings.csv', 'Books.csv', 'recsys_taxonomy2.png', 'DeepRec.png', 'kaggle.json', 'sample_data']\n"
          ]
        }
      ],
      "source": [
        "path = kagglehub.dataset_download(\"arashnic/book-recommendation-dataset\")\n",
        "print(\"Path to dataset files:\", path)\n",
        "print(\"Files in dataset folder:\")\n",
        "print(os.listdir(path))\n",
        "\n",
        "destination_path = \"/content\"\n",
        "for file_name in os.listdir(path):\n",
        "    full_file_name = os.path.join(path, file_name)\n",
        "    if os.path.isfile(full_file_name):\n",
        "        shutil.copy(full_file_name, destination_path)\n",
        "\n",
        "print(\"✅ Dataset berhasil disalin ke /content\")\n",
        "print(\"Isi folder /content:\")\n",
        "print(os.listdir(\"/content\"))"
      ]
    },
    {
      "cell_type": "markdown",
      "metadata": {
        "id": "BxRX01723tHc"
      },
      "source": [
        "Meload dataset-dataset yang telah didownload tadi kedalam sebuah variabel menggunakan library pandas"
      ]
    },
    {
      "cell_type": "code",
      "execution_count": 4,
      "metadata": {
        "colab": {
          "base_uri": "https://localhost:8080/"
        },
        "id": "a3jYsifXF8Ew",
        "outputId": "e7706bbc-cbae-49c0-f8f1-3b2ee4e2c038"
      },
      "outputs": [
        {
          "output_type": "stream",
          "name": "stderr",
          "text": [
            "<ipython-input-4-423f50df06f9>:1: DtypeWarning: Columns (3) have mixed types. Specify dtype option on import or set low_memory=False.\n",
            "  book = pd.read_csv('/content/Books.csv')\n"
          ]
        }
      ],
      "source": [
        "book = pd.read_csv('/content/Books.csv')\n",
        "rating = pd.read_csv('/content/Ratings.csv')\n",
        "user = pd.read_csv('/content/Users.csv')"
      ]
    },
    {
      "cell_type": "markdown",
      "metadata": {
        "id": "_ZtVeKvb4r_d"
      },
      "source": [
        "Memeriksa variabel-variabel pada dataset book, rating dan user"
      ]
    },
    {
      "cell_type": "code",
      "execution_count": 5,
      "metadata": {
        "colab": {
          "base_uri": "https://localhost:8080/"
        },
        "id": "T1ERKvDx40PZ",
        "outputId": "e7888042-7521-4527-9ba3-fcbea574c2e2"
      },
      "outputs": [
        {
          "output_type": "stream",
          "name": "stdout",
          "text": [
            "<class 'pandas.core.frame.DataFrame'>\n",
            "RangeIndex: 271360 entries, 0 to 271359\n",
            "Data columns (total 8 columns):\n",
            " #   Column               Non-Null Count   Dtype \n",
            "---  ------               --------------   ----- \n",
            " 0   ISBN                 271360 non-null  object\n",
            " 1   Book-Title           271360 non-null  object\n",
            " 2   Book-Author          271358 non-null  object\n",
            " 3   Year-Of-Publication  271360 non-null  object\n",
            " 4   Publisher            271358 non-null  object\n",
            " 5   Image-URL-S          271360 non-null  object\n",
            " 6   Image-URL-M          271360 non-null  object\n",
            " 7   Image-URL-L          271357 non-null  object\n",
            "dtypes: object(8)\n",
            "memory usage: 16.6+ MB\n",
            "<class 'pandas.core.frame.DataFrame'>\n",
            "RangeIndex: 1149780 entries, 0 to 1149779\n",
            "Data columns (total 3 columns):\n",
            " #   Column       Non-Null Count    Dtype \n",
            "---  ------       --------------    ----- \n",
            " 0   User-ID      1149780 non-null  int64 \n",
            " 1   ISBN         1149780 non-null  object\n",
            " 2   Book-Rating  1149780 non-null  int64 \n",
            "dtypes: int64(2), object(1)\n",
            "memory usage: 26.3+ MB\n",
            "<class 'pandas.core.frame.DataFrame'>\n",
            "RangeIndex: 278858 entries, 0 to 278857\n",
            "Data columns (total 3 columns):\n",
            " #   Column    Non-Null Count   Dtype  \n",
            "---  ------    --------------   -----  \n",
            " 0   User-ID   278858 non-null  int64  \n",
            " 1   Location  278858 non-null  object \n",
            " 2   Age       168096 non-null  float64\n",
            "dtypes: float64(1), int64(1), object(1)\n",
            "memory usage: 6.4+ MB\n"
          ]
        }
      ],
      "source": [
        "book.info()\n",
        "rating.info()\n",
        "user.info()"
      ]
    },
    {
      "cell_type": "markdown",
      "metadata": {
        "id": "Aq_JFyCo5MXn"
      },
      "source": [
        "Dataset yang digunakan terdiri dari tiga bagian utama: data buku, data pengguna, dan data rating. Dataset buku mencakup 271.360 entri dengan 8 atribut, seperti ISBN, judul, penulis, tahun terbit, penerbit, dan URL gambar sampul, di mana sebagian besar data bersifat lengkap meskipun terdapat sedikit nilai null pada kolom penulis, penerbit, dan gambar berukuran besar. Dataset pengguna memuat 278.858 entri yang berisi informasi User-ID, lokasi, dan usia, namun hanya sekitar 60% data usia yang tersedia. Sementara itu, dataset rating berisi 1.149.780 entri, terdiri dari pasangan User-ID dan ISBN dengan nilai rating yang diberikan pengguna, tanpa adanya nilai null."
      ]
    },
    {
      "cell_type": "markdown",
      "metadata": {
        "id": "6NTK7Hjl2d0A"
      },
      "source": [
        "###Univariate Exploratory Data Analysis"
      ]
    },
    {
      "cell_type": "markdown",
      "metadata": {
        "id": "8ANVNz9-57a3"
      },
      "source": [
        "**Berikut adalah daftar variabel pada dataset yang digunakan:**\n",
        "\n",
        "**Dataset buku:**\n",
        "- ISBN : merupakan kode unik untuk setiap buku.\n",
        "- Book-Title : merupakan judul dari buku.\n",
        "- Book-Author : merupakan nama penulis dari buku.\n",
        "- Year-Of-Publication : merupakan tahun terbit dari buku.\n",
        "- Publisher : merupakan nama penerbit dari buku.\n",
        "- Image-URL-S : merupakan URL gambar sampul buku berukuran kecil.\n",
        "- Image-URL-M : merupakan URL gambar sampul buku berukuran sedang.\n",
        "- Image-URL-L : merupakan URL gambar sampul buku berukuran besar.\n",
        "\n",
        "**Dataset Pengguna:**\n",
        "- User-ID : merupakan identitas unik dari setiap pengguna.\n",
        "- Location : merupakan lokasi pengguna berdasarkan kota, negara bagian, dan negara.\n",
        "- Age : merupakan usia pengguna.\n",
        "\n",
        "**Dataset Rating:**\n",
        "- User-ID : merupakan identitas unik dari pengguna yang memberi rating.\n",
        "- ISBN : merupakan kode unik dari buku yang diberi rating.\n",
        "- Book-Rating : merupakan nilai rating yang diberikan pengguna terhadap buku.\n",
        "--------------------------------------------------------------------------------"
      ]
    },
    {
      "cell_type": "markdown",
      "metadata": {
        "id": "VJrqXAOG9apL"
      },
      "source": [
        "####Dataset Buku"
      ]
    },
    {
      "cell_type": "code",
      "execution_count": 6,
      "metadata": {
        "colab": {
          "base_uri": "https://localhost:8080/"
        },
        "id": "ay24eNjZ2gSe",
        "outputId": "36913c03-079b-48aa-c4f8-5ffa7a17f104"
      },
      "outputs": [
        {
          "output_type": "stream",
          "name": "stdout",
          "text": [
            "<class 'pandas.core.frame.DataFrame'>\n",
            "RangeIndex: 271360 entries, 0 to 271359\n",
            "Data columns (total 8 columns):\n",
            " #   Column               Non-Null Count   Dtype \n",
            "---  ------               --------------   ----- \n",
            " 0   ISBN                 271360 non-null  object\n",
            " 1   Book-Title           271360 non-null  object\n",
            " 2   Book-Author          271358 non-null  object\n",
            " 3   Year-Of-Publication  271360 non-null  object\n",
            " 4   Publisher            271358 non-null  object\n",
            " 5   Image-URL-S          271360 non-null  object\n",
            " 6   Image-URL-M          271360 non-null  object\n",
            " 7   Image-URL-L          271357 non-null  object\n",
            "dtypes: object(8)\n",
            "memory usage: 16.6+ MB\n"
          ]
        }
      ],
      "source": [
        "book.info()"
      ]
    },
    {
      "cell_type": "markdown",
      "metadata": {
        "id": "qYlaysCTB93q"
      },
      "source": [
        "**Variabel ISBN**"
      ]
    },
    {
      "cell_type": "code",
      "execution_count": 7,
      "metadata": {
        "colab": {
          "base_uri": "https://localhost:8080/"
        },
        "id": "PndWn7kt-9iS",
        "outputId": "a171b986-18e0-4460-acac-efcd3f7757e5"
      },
      "outputs": [
        {
          "output_type": "stream",
          "name": "stdout",
          "text": [
            "Jumlah ISBN unik: 271360\n",
            "Jumlah missing ISBN: 0\n"
          ]
        }
      ],
      "source": [
        "print('Jumlah ISBN unik:', book['ISBN'].nunique())\n",
        "print('Jumlah missing ISBN:', book['ISBN'].isnull().sum())"
      ]
    },
    {
      "cell_type": "markdown",
      "metadata": {
        "id": "9FIatzOACA_E"
      },
      "source": [
        "Merupakan kode unik yang digunakan untuk mengidentifikasi setiap buku secara individual. Dalam dataset ini, seluruh 271.360 baris memiliki nilai ISBN yang unik tanpa nilai kosong.\n",
        "\n",
        "--------------------------------------------------------------------------------"
      ]
    },
    {
      "cell_type": "markdown",
      "metadata": {
        "id": "y0q2gVFbCOGy"
      },
      "source": [
        "**Variabel Book-Title**"
      ]
    },
    {
      "cell_type": "code",
      "execution_count": 8,
      "metadata": {
        "colab": {
          "base_uri": "https://localhost:8080/"
        },
        "id": "MEvOLxlX_BQ1",
        "outputId": "f365ff6d-8c7e-48c1-ae6e-b07e7a4599b9"
      },
      "outputs": [
        {
          "output_type": "stream",
          "name": "stdout",
          "text": [
            "Jumlah judul unik: 242135\n",
            "Judul paling umum:\n",
            " Book-Title\n",
            "Selected Poems       27\n",
            "Little Women         24\n",
            "Wuthering Heights    21\n",
            "The Secret Garden    20\n",
            "Dracula              20\n",
            "Name: count, dtype: int64\n"
          ]
        }
      ],
      "source": [
        "print('Jumlah judul unik:', book['Book-Title'].nunique())\n",
        "print('Judul paling umum:\\n', book['Book-Title'].value_counts().head(5))"
      ]
    },
    {
      "cell_type": "markdown",
      "metadata": {
        "id": "7URyCHVtCWnM"
      },
      "source": [
        "Menunjukkan judul buku. Dari 271.360 data, terdapat 242.135 judul unik, menunjukkan adanya beberapa buku yang memiliki judul yang sama (kemungkinan edisi berbeda atau re-publish). Judul yang paling sering muncul antara lain Selected Poems, Little Women, dan Wuthering Heights.\n",
        "\n",
        "--------------------------------------------------------------------------------"
      ]
    },
    {
      "cell_type": "markdown",
      "metadata": {
        "id": "t8Ayk6fBCuYb"
      },
      "source": [
        "**Variabel Book Author**"
      ]
    },
    {
      "cell_type": "code",
      "execution_count": 9,
      "metadata": {
        "colab": {
          "base_uri": "https://localhost:8080/"
        },
        "id": "7iEPAMYz_ToH",
        "outputId": "339db4a7-461a-4f91-ddc3-dc5fff0b6071"
      },
      "outputs": [
        {
          "output_type": "stream",
          "name": "stdout",
          "text": [
            "Jumlah penulis unik: 102022\n",
            "Jumlah missing: 2\n",
            "Penulis paling banyak muncul:\n",
            " Book-Author\n",
            "Agatha Christie        632\n",
            "William Shakespeare    567\n",
            "Stephen King           524\n",
            "Ann M. Martin          423\n",
            "Carolyn Keene          373\n",
            "Name: count, dtype: int64\n"
          ]
        }
      ],
      "source": [
        "print('Jumlah penulis unik:', book['Book-Author'].nunique())\n",
        "print('Jumlah missing:', book['Book-Author'].isnull().sum())\n",
        "print('Penulis paling banyak muncul:\\n', book['Book-Author'].value_counts().head(5))"
      ]
    },
    {
      "cell_type": "markdown",
      "metadata": {
        "id": "cHuGrMnQC1NY"
      },
      "source": [
        "Menampilkan nama penulis dari setiap buku. Terdapat 102.022 penulis unik dan hanya 2 nilai yang hilang. Penulis yang paling sering muncul dalam dataset ini adalah Agatha Christie, William Shakespeare, dan Stephen King, yang masing-masing memiliki ratusan judul.\n",
        "\n",
        "--------------------------------------------------------------------------------"
      ]
    },
    {
      "cell_type": "markdown",
      "metadata": {
        "id": "DrQ7Kw2VDh7X"
      },
      "source": [
        "**Variabel Year-Of-Publication**"
      ]
    },
    {
      "cell_type": "code",
      "execution_count": 10,
      "metadata": {
        "colab": {
          "base_uri": "https://localhost:8080/"
        },
        "id": "PFp6r4BJ_b0N",
        "outputId": "e978ab94-1e22-4b60-f787-bb444b0468b0"
      },
      "outputs": [
        {
          "output_type": "stream",
          "name": "stdout",
          "text": [
            "count    271357.000000\n",
            "mean       1959.760817\n",
            "std         257.994226\n",
            "min           0.000000\n",
            "25%        1989.000000\n",
            "50%        1995.000000\n",
            "75%        2000.000000\n",
            "max        2050.000000\n",
            "Name: Year-Of-Publication, dtype: float64\n",
            "Tahun terbit unik: 116\n",
            "Tahun terbit paling umum:\n",
            " Year-Of-Publication\n",
            "2002.0    17627\n",
            "1999.0    17431\n",
            "2001.0    17359\n",
            "2000.0    17232\n",
            "1998.0    15766\n",
            "Name: count, dtype: int64\n"
          ]
        }
      ],
      "source": [
        "book['Year-Of-Publication'] = pd.to_numeric(book['Year-Of-Publication'], errors='coerce')\n",
        "print(book['Year-Of-Publication'].describe())\n",
        "print('Tahun terbit unik:', book['Year-Of-Publication'].nunique())\n",
        "print('Tahun terbit paling umum:\\n', book['Year-Of-Publication'].value_counts().head())\n"
      ]
    },
    {
      "cell_type": "markdown",
      "metadata": {
        "id": "TiAhKLbfDFma"
      },
      "source": [
        "Merupakan tahun terbit buku yang awalnya bertipe objek dan telah dikonversi menjadi numerik. Rentangnya sangat luas (0 hingga 2050), menunjukkan adanya outlier atau data error. Tahun yang paling umum muncul adalah antara 1998 hingga 2002.\n",
        "\n",
        "--------------------------------------------------------------------------------"
      ]
    },
    {
      "cell_type": "markdown",
      "metadata": {
        "id": "9gkXX1M7DqBe"
      },
      "source": [
        "**Variabel Publisher**"
      ]
    },
    {
      "cell_type": "code",
      "execution_count": 11,
      "metadata": {
        "colab": {
          "base_uri": "https://localhost:8080/"
        },
        "id": "u_JyMl83_t9h",
        "outputId": "b1ffa6bc-1eee-4fe2-da49-bb136fcc3061"
      },
      "outputs": [
        {
          "output_type": "stream",
          "name": "stdout",
          "text": [
            "Jumlah penerbit unik: 16807\n",
            "Jumlah missing: 2\n",
            "Penerbit terbanyak:\n",
            " Publisher\n",
            "Harlequin           7535\n",
            "Silhouette          4220\n",
            "Pocket              3905\n",
            "Ballantine Books    3783\n",
            "Bantam Books        3646\n",
            "Name: count, dtype: int64\n"
          ]
        }
      ],
      "source": [
        "print('Jumlah penerbit unik:', book['Publisher'].nunique())\n",
        "print('Jumlah missing:', book['Publisher'].isnull().sum())\n",
        "print('Penerbit terbanyak:\\n', book['Publisher'].value_counts().head())"
      ]
    },
    {
      "cell_type": "markdown",
      "metadata": {
        "id": "cS2h2X8kDxm4"
      },
      "source": [
        "Menunjukkan penerbit buku. Terdapat 16.807 penerbit unik dengan hanya 2 data yang hilang. Beberapa penerbit yang paling banyak muncul adalah Harlequin, Silhouette, dan Pocket.\n",
        "\n",
        "--------------------------------------------------------------------------------"
      ]
    },
    {
      "cell_type": "markdown",
      "metadata": {
        "id": "-MPCYhb5D843"
      },
      "source": [
        "**Variabel Image URL**"
      ]
    },
    {
      "cell_type": "code",
      "execution_count": 12,
      "metadata": {
        "colab": {
          "base_uri": "https://localhost:8080/"
        },
        "id": "OjSsrTSw_5a-",
        "outputId": "32f268d1-b555-40be-f19c-cc8a356deb5f"
      },
      "outputs": [
        {
          "output_type": "stream",
          "name": "stdout",
          "text": [
            "Jumlah missing image kecil: 0\n",
            "Jumlah missing image sedang: 0\n",
            "Jumlah missing image besar: 3\n"
          ]
        }
      ],
      "source": [
        "print('Jumlah missing image kecil:', book['Image-URL-S'].isnull().sum())\n",
        "print('Jumlah missing image sedang:', book['Image-URL-M'].isnull().sum())\n",
        "print('Jumlah missing image besar:', book['Image-URL-L'].isnull().sum())"
      ]
    },
    {
      "cell_type": "markdown",
      "metadata": {
        "id": "WTYe82uTEDv6"
      },
      "source": [
        "Ketiganya adalah URL gambar sampul buku dalam tiga ukuran berbeda. Kolom ini tidak memiliki nilai kosong, kecuali Image-URL-L yang memiliki 3 missing value. Data ini bersifat pelengkap dan lebih relevan untuk aplikasi berbasis tampilan visual.\n",
        "\n",
        "--------------------------------------------------------------------------------"
      ]
    },
    {
      "cell_type": "markdown",
      "metadata": {
        "id": "YzxqvJFKFAzs"
      },
      "source": [
        "**Kesimpulan**\n",
        "\n",
        "ISBN bersifat unik dan tidak memiliki nilai kosong, sedangkan Book-Title memiliki 242.135 judul unik dari total 271.360 data. Menunjukkan adanya banyak buku dengan judul sama, dengan Selected Poems menjadi yang paling sering muncul. Book-Author menunjukkan bahwa Agatha Christie adalah penulis yang paling sering muncul dengan 632 buku, diikuti oleh William Shakespeare dan Stephen King, sementara hanya terdapat dua nilai kosong. Year-Of-Publication memiliki sebaran yang luas dengan outlier seperti nilai 0 dan 2050, namun mayoritas buku diterbitkan antara tahun 1998 hingga 2002, dengan tahun 2002 sebagai yang paling umum. Publisher memiliki 16.807 penerbit unik, dengan Harlequin mendominasi sebanyak 7.535 buku, dan hanya dua data yang kosong. Tiga kolom gambar tidak memiliki missing value kecuali Image-URL-L, yang hanya memiliki tiga data kosong.\n",
        "\n",
        "--------------------------------------------------------------------------------"
      ]
    },
    {
      "cell_type": "markdown",
      "metadata": {
        "id": "a0y-BpeFE0Ms"
      },
      "source": [
        "####Dataset Pengguna"
      ]
    },
    {
      "cell_type": "code",
      "execution_count": 13,
      "metadata": {
        "colab": {
          "base_uri": "https://localhost:8080/"
        },
        "id": "kHAC5wlUsrFM",
        "outputId": "07ceab3b-9575-4b4c-fd53-d1c2dc582a23"
      },
      "outputs": [
        {
          "output_type": "stream",
          "name": "stdout",
          "text": [
            "<class 'pandas.core.frame.DataFrame'>\n",
            "RangeIndex: 278858 entries, 0 to 278857\n",
            "Data columns (total 3 columns):\n",
            " #   Column    Non-Null Count   Dtype  \n",
            "---  ------    --------------   -----  \n",
            " 0   User-ID   278858 non-null  int64  \n",
            " 1   Location  278858 non-null  object \n",
            " 2   Age       168096 non-null  float64\n",
            "dtypes: float64(1), int64(1), object(1)\n",
            "memory usage: 6.4+ MB\n"
          ]
        }
      ],
      "source": [
        "user.info()"
      ]
    },
    {
      "cell_type": "markdown",
      "metadata": {
        "id": "4ziU7jBztOwp"
      },
      "source": [
        "**Variabel User-ID**"
      ]
    },
    {
      "cell_type": "code",
      "execution_count": 14,
      "metadata": {
        "colab": {
          "base_uri": "https://localhost:8080/"
        },
        "id": "RY0m6UZ9tUQJ",
        "outputId": "6bc0336b-4ae1-47d6-df51-5dce7cee4f99"
      },
      "outputs": [
        {
          "output_type": "stream",
          "name": "stdout",
          "text": [
            "Jumlah User unik: 278858\n",
            "Apakah ada missing User-ID?: 0\n"
          ]
        }
      ],
      "source": [
        "print(\"Jumlah User unik:\", user['User-ID'].nunique())\n",
        "print(\"Apakah ada missing User-ID?:\", user['User-ID'].isnull().sum())"
      ]
    },
    {
      "cell_type": "markdown",
      "metadata": {
        "id": "8I2lYaA3ujgU"
      },
      "source": [
        "Terdapat 278.858 nilai unik pada kolom User-ID, menandakan bahwa setiap pengguna dalam dataset bersifat unik. Tidak ditemukan nilai yang hilang pada kolom ini.\n",
        "\n",
        "--------------------------------------------------------------------------------"
      ]
    },
    {
      "cell_type": "markdown",
      "metadata": {
        "id": "Yrg2dN9utmtx"
      },
      "source": [
        "**Variabel Location**"
      ]
    },
    {
      "cell_type": "code",
      "execution_count": 15,
      "metadata": {
        "colab": {
          "base_uri": "https://localhost:8080/"
        },
        "id": "Ot1b3pzStmBi",
        "outputId": "a118f115-0963-46e4-ed74-4fb92db8e274"
      },
      "outputs": [
        {
          "output_type": "stream",
          "name": "stdout",
          "text": [
            "Jumlah lokasi unik: 57339\n",
            "Location\n",
            "london, england, united kingdom       2506\n",
            "toronto, ontario, canada              2250\n",
            "sydney, new south wales, australia    1744\n",
            "melbourne, victoria, australia        1708\n",
            "portland, oregon, usa                 1629\n",
            "Name: count, dtype: int64\n",
            "Apakah ada missing Location?: 0\n"
          ]
        }
      ],
      "source": [
        "print(\"Jumlah lokasi unik:\", user['Location'].nunique())\n",
        "print(user['Location'].value_counts().head())\n",
        "print(\"Apakah ada missing Location?:\", user['Location'].isnull().sum())"
      ]
    },
    {
      "cell_type": "markdown",
      "metadata": {
        "id": "Y9wr6v-Vus06"
      },
      "source": [
        "Terdapat 57.339 lokasi unik dalam kolom Location, yang menunjukkan keragaman geografis pengguna. Lokasi yang paling sering muncul adalah London, England, United Kingdom sebanyak 2.506 kali, diikuti oleh Toronto, Ontario, Canada dan Sydney, New South Wales, Australia. Tidak terdapat data yang hilang pada kolom ini.\n",
        "\n",
        "--------------------------------------------------------------------------------"
      ]
    },
    {
      "cell_type": "markdown",
      "metadata": {
        "id": "K2tsoFWkt4Qs"
      },
      "source": [
        "**Variabel Age**"
      ]
    },
    {
      "cell_type": "code",
      "execution_count": 16,
      "metadata": {
        "colab": {
          "base_uri": "https://localhost:8080/"
        },
        "id": "jkjFbCKSt8Ez",
        "outputId": "d9a50ab2-65b5-4926-809c-086e53cdba04"
      },
      "outputs": [
        {
          "output_type": "stream",
          "name": "stdout",
          "text": [
            "count    168096.000000\n",
            "mean         34.751434\n",
            "std          14.428097\n",
            "min           0.000000\n",
            "25%          24.000000\n",
            "50%          32.000000\n",
            "75%          44.000000\n",
            "max         244.000000\n",
            "Name: Age, dtype: float64\n",
            "Umur unik: 165\n",
            "Umur tertinggi: 244.0\n",
            "Umur terendah: 0.0\n"
          ]
        }
      ],
      "source": [
        "print(user['Age'].describe())\n",
        "print(\"Umur unik:\", user['Age'].nunique())\n",
        "print(\"Umur tertinggi:\", user['Age'].max())\n",
        "print(\"Umur terendah:\", user['Age'].min())"
      ]
    },
    {
      "cell_type": "markdown",
      "metadata": {
        "id": "vrVRRcyFu6Jd"
      },
      "source": [
        "Dari total data, hanya 168.096 (sekitar 60%) yang memiliki nilai usia. Rata-rata usia pengguna adalah sekitar 35 tahun dengan simpangan baku 14,43 tahun. Terdapat nilai ekstrim seperti usia minimum 0 tahun dan maksimum 244 tahun yang kemungkinan merupakan kesalahan input atau outlier.\n",
        "\n",
        "--------------------------------------------------------------------------------"
      ]
    },
    {
      "cell_type": "markdown",
      "metadata": {
        "id": "OASbGM1KvHl6"
      },
      "source": [
        "**Kesimpulan**\n",
        "\n",
        "Dataset pengguna terdiri dari 278.858 entri unik pada kolom User-ID tanpa adanya nilai yang hilang, menunjukkan representasi yang lengkap untuk setiap pengguna. Kolom Location mencerminkan keberagaman geografis yang tinggi dengan lebih dari 57 ribu lokasi berbeda, di mana kota-kota besar seperti London, Toronto, dan Sydney muncul paling sering. Sementara itu, variabel Age hanya terisi pada sekitar 60% data, dengan usia rata-rata sekitar 35 tahun, namun terdapat nilai-nilai ekstrem seperti 0 dan 244 tahun yang menunjukkan adanya kemungkinan outlier atau kesalahan input yang perlu ditangani pada tahap pembersihan data.\n",
        "\n",
        "--------------------------------------------------------------------------------"
      ]
    },
    {
      "cell_type": "markdown",
      "metadata": {
        "id": "YavegXqqGqwM"
      },
      "source": [
        "####Dataset Rating"
      ]
    },
    {
      "cell_type": "code",
      "execution_count": 17,
      "metadata": {
        "colab": {
          "base_uri": "https://localhost:8080/"
        },
        "id": "z6FvMB9nvWYW",
        "outputId": "8407d36b-4ae6-4de5-a043-0c0f7239c1a3"
      },
      "outputs": [
        {
          "output_type": "stream",
          "name": "stdout",
          "text": [
            "<class 'pandas.core.frame.DataFrame'>\n",
            "RangeIndex: 1149780 entries, 0 to 1149779\n",
            "Data columns (total 3 columns):\n",
            " #   Column       Non-Null Count    Dtype \n",
            "---  ------       --------------    ----- \n",
            " 0   User-ID      1149780 non-null  int64 \n",
            " 1   ISBN         1149780 non-null  object\n",
            " 2   Book-Rating  1149780 non-null  int64 \n",
            "dtypes: int64(2), object(1)\n",
            "memory usage: 26.3+ MB\n"
          ]
        }
      ],
      "source": [
        "rating.info()"
      ]
    },
    {
      "cell_type": "markdown",
      "metadata": {
        "id": "H915ecE3v927"
      },
      "source": [
        "**Variabel User-ID**"
      ]
    },
    {
      "cell_type": "code",
      "execution_count": 18,
      "metadata": {
        "colab": {
          "base_uri": "https://localhost:8080/"
        },
        "id": "xka1SL77wCdR",
        "outputId": "026fed32-73b8-43a7-d518-98534595a75f"
      },
      "outputs": [
        {
          "output_type": "stream",
          "name": "stdout",
          "text": [
            "Jumlah User unik: 105283\n",
            "Apakah ada missing User-ID?: 0\n"
          ]
        }
      ],
      "source": [
        "print(\"Jumlah User unik:\", rating['User-ID'].nunique())\n",
        "print(\"Apakah ada missing User-ID?:\", rating['User-ID'].isnull().sum())"
      ]
    },
    {
      "cell_type": "markdown",
      "metadata": {
        "id": "EudJLWC8wsec"
      },
      "source": [
        "Terdapat 105.283 pengguna unik dalam dataset ini, dan tidak ditemukan nilai yang hilang pada kolom User-ID.\n",
        "\n",
        "--------------------------------------------------------------------------------"
      ]
    },
    {
      "cell_type": "markdown",
      "metadata": {
        "id": "suqc3YcWwwOF"
      },
      "source": [
        "**Variabel ISBN**"
      ]
    },
    {
      "cell_type": "code",
      "execution_count": 19,
      "metadata": {
        "colab": {
          "base_uri": "https://localhost:8080/"
        },
        "id": "PhcARIBzwJew",
        "outputId": "aedb3542-1d59-491f-830b-a0f90ce37302"
      },
      "outputs": [
        {
          "output_type": "stream",
          "name": "stdout",
          "text": [
            "Jumlah ISBN unik: 340556\n",
            "ISBN paling sering muncul:\n",
            " ISBN\n",
            "0971880107    2502\n",
            "0316666343    1295\n",
            "0385504209     883\n",
            "0060928336     732\n",
            "0312195516     723\n",
            "Name: count, dtype: int64\n",
            "Apakah ada missing ISBN?: 0\n"
          ]
        }
      ],
      "source": [
        "print(\"Jumlah ISBN unik:\", rating['ISBN'].nunique())\n",
        "print(\"ISBN paling sering muncul:\\n\", rating['ISBN'].value_counts().head())\n",
        "print(\"Apakah ada missing ISBN?:\", rating['ISBN'].isnull().sum())"
      ]
    },
    {
      "cell_type": "markdown",
      "metadata": {
        "id": "jqZN_1OEw6MN"
      },
      "source": [
        "Jumlah ISBN unik yang tercatat adalah 340.556. ISBN yang paling sering muncul adalah 0971880107 sebanyak 2.502 kali, diikuti oleh 0316666343 sebanyak 1.295 kali. Tidak ada nilai kosong pada kolom ini.\n",
        "\n",
        "--------------------------------------------------------------------------------"
      ]
    },
    {
      "cell_type": "markdown",
      "metadata": {
        "id": "GRJVFYi1w_yu"
      },
      "source": [
        "**Variabel book rating**"
      ]
    },
    {
      "cell_type": "code",
      "execution_count": 20,
      "metadata": {
        "colab": {
          "base_uri": "https://localhost:8080/"
        },
        "id": "kEZulaigGtLv",
        "outputId": "4d7f05ab-adcf-4348-cbe2-2609d883b743"
      },
      "outputs": [
        {
          "output_type": "stream",
          "name": "stdout",
          "text": [
            "Statistik deskriptif Book-Rating:\n",
            " count    1.149780e+06\n",
            "mean     2.866950e+00\n",
            "std      3.854184e+00\n",
            "min      0.000000e+00\n",
            "25%      0.000000e+00\n",
            "50%      0.000000e+00\n",
            "75%      7.000000e+00\n",
            "max      1.000000e+01\n",
            "Name: Book-Rating, dtype: float64\n",
            "Rating unik: 11\n",
            "Distribusi rating:\n",
            " Book-Rating\n",
            "0     716109\n",
            "1       1770\n",
            "2       2759\n",
            "3       5996\n",
            "4       8904\n",
            "5      50974\n",
            "6      36924\n",
            "7      76457\n",
            "8     103736\n",
            "9      67541\n",
            "10     78610\n",
            "Name: count, dtype: int64\n"
          ]
        }
      ],
      "source": [
        "print(\"Statistik deskriptif Book-Rating:\\n\", rating['Book-Rating'].describe())\n",
        "print(\"Rating unik:\", rating['Book-Rating'].nunique())\n",
        "print(\"Distribusi rating:\\n\", rating['Book-Rating'].value_counts().sort_index())"
      ]
    },
    {
      "cell_type": "markdown",
      "metadata": {
        "id": "wSTDueTfxHad"
      },
      "source": [
        "Rating buku memiliki 1.149.780 entri dengan nilai rata-rata 2.87 dan standar deviasi sebesar 3.85. Nilai rating berkisar antara 0 hingga 10. Sebanyak 716.109 entri (sekitar 62%) memiliki rating 0, yang biasanya menandakan tidak ada rating yang diberikan. Rating 10 muncul sebanyak 78.610 kali, menunjukkan sejumlah pengguna memberikan skor maksimal. Distribusi lainnya menunjukkan peningkatan jumlah data seiring naiknya rating, terutama dari nilai 5 hingga 8.\n",
        "\n",
        "--------------------------------------------------------------------------------"
      ]
    },
    {
      "cell_type": "markdown",
      "metadata": {
        "id": "BzQ9p_IkxT-H"
      },
      "source": [
        "**Kesimpulan**\n",
        "\n",
        "Dataset ini mencakup 105.283 pengguna unik dan 340.556 ISBN unik tanpa ada data yang hilang di kedua kolom tersebut. ISBN 0971880107 merupakan buku yang paling banyak dinilai. Distribusi rating menunjukkan bahwa sebagian besar pengguna tidak memberikan rating (nilai 0), sedangkan skor tinggi seperti 8, 9, dan 10 cukup banyak diberikan, mengindikasikan kecenderungan pengguna untuk memberi rating positif terhadap buku yang mereka baca.\n",
        "\n",
        "--------------------------------------------------------------------------------"
      ]
    },
    {
      "cell_type": "markdown",
      "source": [
        "##Data Preparation"
      ],
      "metadata": {
        "id": "qQDqvXiuX_2u"
      }
    },
    {
      "cell_type": "markdown",
      "metadata": {
        "id": "g15mfpXD2kk_"
      },
      "source": [
        "###Data Preprocessing"
      ]
    },
    {
      "cell_type": "markdown",
      "metadata": {
        "id": "DrrLalarihcA"
      },
      "source": [
        " 📘 Tabel Ringkasan Preprocessing\n",
        "\n",
        "| Dataset          | Variabel               | Masalah Ditemukan                                | Tindakan Preprocessing                                 |\n",
        "|------------------|------------------------|--------------------------------------------------|--------------------------------------------------------|\n",
        "| Buku             | Book-Title            | Terdapat judul buku yang sama                         | Hapus judul buku yang sama                        |\n",
        "| Buku             | Book-Author            | Terdapat 2 missing value                         | Hapus baris dengan nilai kosong                        |\n",
        "| Buku             | Publisher              | Terdapat 2 missing value                         | Hapus baris dengan nilai kosong                        |\n",
        "| Buku             | Year-Of-Publication    | Nilai tidak valid: 0 dan > 2025                  | Menggantinya dengan nilai median |\n",
        "| Buku             |  Image-URL | Variabel tidak dibutuhkan                  | Menghapus variabel (drop) |\n",
        "| Pengguna         | Age                    | Nilai outlier: 0 dan > 100                       | Menggantinya dengan nilai median |\n",
        "\n",
        "--------------------------------------------------------------------------------\n",
        "\n",
        "\n"
      ]
    },
    {
      "cell_type": "markdown",
      "metadata": {
        "id": "6wThZztyU67p"
      },
      "source": [
        "Menghapus judul buku yang sama atau duplikat"
      ]
    },
    {
      "cell_type": "code",
      "execution_count": 21,
      "metadata": {
        "id": "ep9UOdBiTza6"
      },
      "outputs": [],
      "source": [
        "book = book.drop_duplicates(subset=['Book-Title']).reset_index(drop=True)"
      ]
    },
    {
      "cell_type": "markdown",
      "metadata": {
        "id": "ckdGqGyYnaKS"
      },
      "source": [
        "Menghapus baris dengan Book-Author yang kosong"
      ]
    },
    {
      "cell_type": "code",
      "execution_count": 22,
      "metadata": {
        "id": "QP4f8yz_2nUI"
      },
      "outputs": [],
      "source": [
        "book = book[book['Book-Author'].notnull()]"
      ]
    },
    {
      "cell_type": "markdown",
      "metadata": {
        "id": "kOkxP7JznmBL"
      },
      "source": [
        "Menghapus baris dengan Publisher yang kosong"
      ]
    },
    {
      "cell_type": "code",
      "execution_count": 23,
      "metadata": {
        "id": "TKsVgq1CnrDr"
      },
      "outputs": [],
      "source": [
        "book = book[book['Publisher'].notnull()]"
      ]
    },
    {
      "cell_type": "markdown",
      "metadata": {
        "id": "vIlhusUKqP_H"
      },
      "source": [
        "Menghapus variabel Imgae-URL"
      ]
    },
    {
      "cell_type": "code",
      "execution_count": 24,
      "metadata": {
        "id": "qAQ56lGCqYts",
        "colab": {
          "base_uri": "https://localhost:8080/"
        },
        "outputId": "07e5c0e0-999b-4aff-d43f-b734d896c24d"
      },
      "outputs": [
        {
          "output_type": "stream",
          "name": "stderr",
          "text": [
            "<ipython-input-24-b99cd9a0f20c>:1: SettingWithCopyWarning: \n",
            "A value is trying to be set on a copy of a slice from a DataFrame\n",
            "\n",
            "See the caveats in the documentation: https://pandas.pydata.org/pandas-docs/stable/user_guide/indexing.html#returning-a-view-versus-a-copy\n",
            "  book.drop(['Image-URL-S', 'Image-URL-M', 'Image-URL-L'], axis=1, inplace=True)\n"
          ]
        }
      ],
      "source": [
        "book.drop(['Image-URL-S', 'Image-URL-M', 'Image-URL-L'], axis=1, inplace=True)"
      ]
    },
    {
      "cell_type": "markdown",
      "metadata": {
        "id": "xxCldZzLnvta"
      },
      "source": [
        "Memperbaiki kolom Year-Of-Publication"
      ]
    },
    {
      "cell_type": "code",
      "execution_count": 25,
      "metadata": {
        "id": "j-lnMbbyorJm"
      },
      "outputs": [],
      "source": [
        "# Ganti nilai tahun yang tidak valid (0 atau >2025) dengan NaN\n",
        "book.loc[(book['Year-Of-Publication'] == 0) | (book['Year-Of-Publication'] > 2025), 'Year-Of-Publication'] = np.nan"
      ]
    },
    {
      "cell_type": "code",
      "execution_count": 26,
      "metadata": {
        "colab": {
          "base_uri": "https://localhost:8080/"
        },
        "id": "dm8PEZBOo0fJ",
        "outputId": "6313c335-8413-4792-87f1-8f9a50e64529"
      },
      "outputs": [
        {
          "output_type": "stream",
          "name": "stderr",
          "text": [
            "<ipython-input-26-dff23fa1f252>:3: FutureWarning: A value is trying to be set on a copy of a DataFrame or Series through chained assignment using an inplace method.\n",
            "The behavior will change in pandas 3.0. This inplace method will never work because the intermediate object on which we are setting values always behaves as a copy.\n",
            "\n",
            "For example, when doing 'df[col].method(value, inplace=True)', try using 'df.method({col: value}, inplace=True)' or df[col] = df[col].method(value) instead, to perform the operation inplace on the original object.\n",
            "\n",
            "\n",
            "  book['Year-Of-Publication'].fillna(median_year, inplace=True)\n",
            "<ipython-input-26-dff23fa1f252>:3: SettingWithCopyWarning: \n",
            "A value is trying to be set on a copy of a slice from a DataFrame\n",
            "\n",
            "See the caveats in the documentation: https://pandas.pydata.org/pandas-docs/stable/user_guide/indexing.html#returning-a-view-versus-a-copy\n",
            "  book['Year-Of-Publication'].fillna(median_year, inplace=True)\n"
          ]
        }
      ],
      "source": [
        "# Ganti NaN dengan median tahun\n",
        "median_year = book['Year-Of-Publication'].median()\n",
        "book['Year-Of-Publication'].fillna(median_year, inplace=True)"
      ]
    },
    {
      "cell_type": "markdown",
      "metadata": {
        "id": "loXXVsS3o9K_"
      },
      "source": [
        "Memperbaiki Kolom Age"
      ]
    },
    {
      "cell_type": "markdown",
      "source": [
        "Mengganti nilai yang tidak realistis (umur 0 atau >100) dengan NaN"
      ],
      "metadata": {
        "id": "QtNucE0PCgbo"
      }
    },
    {
      "cell_type": "code",
      "execution_count": 27,
      "metadata": {
        "id": "bdiv3lVapEt6"
      },
      "outputs": [],
      "source": [
        "user.loc[(user['Age'] < 5) | (user['Age'] > 100), 'Age'] = np.nan"
      ]
    },
    {
      "cell_type": "markdown",
      "source": [
        "Mengganti NaN dengan median usia"
      ],
      "metadata": {
        "id": "nWLiGQ4vCmoY"
      }
    },
    {
      "cell_type": "code",
      "execution_count": 28,
      "metadata": {
        "colab": {
          "base_uri": "https://localhost:8080/"
        },
        "id": "ooctwSGHpK79",
        "outputId": "8f144828-da5f-47e0-f5a6-34866c4b79a6"
      },
      "outputs": [
        {
          "output_type": "stream",
          "name": "stderr",
          "text": [
            "<ipython-input-28-f0b193ffa30b>:2: FutureWarning: A value is trying to be set on a copy of a DataFrame or Series through chained assignment using an inplace method.\n",
            "The behavior will change in pandas 3.0. This inplace method will never work because the intermediate object on which we are setting values always behaves as a copy.\n",
            "\n",
            "For example, when doing 'df[col].method(value, inplace=True)', try using 'df.method({col: value}, inplace=True)' or df[col] = df[col].method(value) instead, to perform the operation inplace on the original object.\n",
            "\n",
            "\n",
            "  user['Age'].fillna(median_age, inplace=True)\n"
          ]
        }
      ],
      "source": [
        "median_age = user['Age'].median()\n",
        "user['Age'].fillna(median_age, inplace=True)"
      ]
    },
    {
      "cell_type": "markdown",
      "metadata": {
        "id": "739J5i67pREw"
      },
      "source": [
        "**Hasil setelah Preprocessing**"
      ]
    },
    {
      "cell_type": "code",
      "execution_count": 29,
      "metadata": {
        "colab": {
          "base_uri": "https://localhost:8080/"
        },
        "id": "h5UNJGfZpXpI",
        "outputId": "03f5995c-5374-45bd-f9ca-7dbb4115f30c"
      },
      "outputs": [
        {
          "output_type": "stream",
          "name": "stdout",
          "text": [
            "Books dataset setelah preprocessing:\n",
            "<class 'pandas.core.frame.DataFrame'>\n",
            "Index: 242132 entries, 0 to 242134\n",
            "Data columns (total 5 columns):\n",
            " #   Column               Non-Null Count   Dtype  \n",
            "---  ------               --------------   -----  \n",
            " 0   ISBN                 242132 non-null  object \n",
            " 1   Book-Title           242132 non-null  object \n",
            " 2   Book-Author          242132 non-null  object \n",
            " 3   Year-Of-Publication  242132 non-null  float64\n",
            " 4   Publisher            242132 non-null  object \n",
            "dtypes: float64(1), object(4)\n",
            "memory usage: 11.1+ MB\n",
            "None\n",
            "\n",
            "Users dataset setelah preprocessing:\n",
            "<class 'pandas.core.frame.DataFrame'>\n",
            "RangeIndex: 278858 entries, 0 to 278857\n",
            "Data columns (total 3 columns):\n",
            " #   Column    Non-Null Count   Dtype  \n",
            "---  ------    --------------   -----  \n",
            " 0   User-ID   278858 non-null  int64  \n",
            " 1   Location  278858 non-null  object \n",
            " 2   Age       278858 non-null  float64\n",
            "dtypes: float64(1), int64(1), object(1)\n",
            "memory usage: 6.4+ MB\n",
            "None\n"
          ]
        }
      ],
      "source": [
        "print(\"Books dataset setelah preprocessing:\")\n",
        "print(book.info())\n",
        "print(\"\\nUsers dataset setelah preprocessing:\")\n",
        "print(user.info())"
      ]
    },
    {
      "cell_type": "markdown",
      "metadata": {
        "id": "G4R-yGoBrCEw"
      },
      "source": [
        "**Kesimpulan**\n",
        "\n",
        "Setelah dilakukan preprocessing, data pada kolom Book-Author dan Publisher yang memiliki nilai kosong dihapus untuk memastikan kualitas data yang bersih dan valid. Nilai tidak logis pada Year-Of-Publication, seperti tahun 0 dan di atas 2025, disesuaikan dengan nilai median agar tetap merepresentasikan distribusi data yang wajar. Kolom Image-URL dihapus karena tidak relevan terhadap analisis atau pemodelan. Untuk data pengguna, nilai usia yang ekstrem seperti 0 dan di atas 100 dianggap sebagai outlier dan digantikan dengan nilai median guna menjaga keakuratan distribusi usia pengguna. Dengan langkah-langkah ini, dataset kini lebih bersih, konsisten, dan siap digunakan dalam tahap analisis lebih lanjut atau pembangunan model rekomendasi.\n",
        "\n",
        "--------------------------------------------------------------------------------"
      ]
    },
    {
      "cell_type": "markdown",
      "source": [
        "Memeriksa Data Book untuk persiapan Modelling Content Based Filtering"
      ],
      "metadata": {
        "id": "pk-BEhAMZ08v"
      }
    },
    {
      "cell_type": "code",
      "execution_count": 30,
      "metadata": {
        "colab": {
          "base_uri": "https://localhost:8080/",
          "height": 424
        },
        "id": "oQRVibG4Q6hV",
        "outputId": "4a94fa75-6dff-4a01-add7-680912372bd3"
      },
      "outputs": [
        {
          "output_type": "execute_result",
          "data": {
            "text/plain": [
              "              ISBN                                         Book-Title  \\\n",
              "0       0195153448                                Classical Mythology   \n",
              "1       0002005018                                       Clara Callan   \n",
              "2       0060973129                               Decision in Normandy   \n",
              "3       0374157065  Flu: The Story of the Great Influenza Pandemic...   \n",
              "4       0393045218                             The Mummies of Urumchi   \n",
              "...            ...                                                ...   \n",
              "242130  0449906736      Flashpoints: Promise and Peril in a New World   \n",
              "242131  0525447644                            From One to One Hundred   \n",
              "242132  006008667X  Lily Dale : The True Story of the Town that Ta...   \n",
              "242133  0192126040                        Republic (World's Classics)   \n",
              "242134  0767409752  A Guided Tour of Rene Descartes' Meditations o...   \n",
              "\n",
              "                 Book-Author  Year-Of-Publication  \\\n",
              "0         Mark P. O. Morford               2002.0   \n",
              "1       Richard Bruce Wright               2001.0   \n",
              "2               Carlo D'Este               1991.0   \n",
              "3           Gina Bari Kolata               1999.0   \n",
              "4            E. J. W. Barber               1999.0   \n",
              "...                      ...                  ...   \n",
              "242130          Robin Wright               1993.0   \n",
              "242131            Teri Sloat               1991.0   \n",
              "242132      Christine Wicker               2004.0   \n",
              "242133                 Plato               1996.0   \n",
              "242134   Christopher  Biffle               2000.0   \n",
              "\n",
              "                                               Publisher  \n",
              "0                                Oxford University Press  \n",
              "1                                  HarperFlamingo Canada  \n",
              "2                                        HarperPerennial  \n",
              "3                                   Farrar Straus Giroux  \n",
              "4                             W. W. Norton &amp; Company  \n",
              "...                                                  ...  \n",
              "242130                                  Ballantine Books  \n",
              "242131                                      Dutton Books  \n",
              "242132                                HarperSanFrancisco  \n",
              "242133                           Oxford University Press  \n",
              "242134  McGraw-Hill Humanities/Social Sciences/Languages  \n",
              "\n",
              "[242132 rows x 5 columns]"
            ],
            "text/html": [
              "\n",
              "  <div id=\"df-23ed8cad-fd2a-4aa0-abd7-f6638d33c5af\" class=\"colab-df-container\">\n",
              "    <div>\n",
              "<style scoped>\n",
              "    .dataframe tbody tr th:only-of-type {\n",
              "        vertical-align: middle;\n",
              "    }\n",
              "\n",
              "    .dataframe tbody tr th {\n",
              "        vertical-align: top;\n",
              "    }\n",
              "\n",
              "    .dataframe thead th {\n",
              "        text-align: right;\n",
              "    }\n",
              "</style>\n",
              "<table border=\"1\" class=\"dataframe\">\n",
              "  <thead>\n",
              "    <tr style=\"text-align: right;\">\n",
              "      <th></th>\n",
              "      <th>ISBN</th>\n",
              "      <th>Book-Title</th>\n",
              "      <th>Book-Author</th>\n",
              "      <th>Year-Of-Publication</th>\n",
              "      <th>Publisher</th>\n",
              "    </tr>\n",
              "  </thead>\n",
              "  <tbody>\n",
              "    <tr>\n",
              "      <th>0</th>\n",
              "      <td>0195153448</td>\n",
              "      <td>Classical Mythology</td>\n",
              "      <td>Mark P. O. Morford</td>\n",
              "      <td>2002.0</td>\n",
              "      <td>Oxford University Press</td>\n",
              "    </tr>\n",
              "    <tr>\n",
              "      <th>1</th>\n",
              "      <td>0002005018</td>\n",
              "      <td>Clara Callan</td>\n",
              "      <td>Richard Bruce Wright</td>\n",
              "      <td>2001.0</td>\n",
              "      <td>HarperFlamingo Canada</td>\n",
              "    </tr>\n",
              "    <tr>\n",
              "      <th>2</th>\n",
              "      <td>0060973129</td>\n",
              "      <td>Decision in Normandy</td>\n",
              "      <td>Carlo D'Este</td>\n",
              "      <td>1991.0</td>\n",
              "      <td>HarperPerennial</td>\n",
              "    </tr>\n",
              "    <tr>\n",
              "      <th>3</th>\n",
              "      <td>0374157065</td>\n",
              "      <td>Flu: The Story of the Great Influenza Pandemic...</td>\n",
              "      <td>Gina Bari Kolata</td>\n",
              "      <td>1999.0</td>\n",
              "      <td>Farrar Straus Giroux</td>\n",
              "    </tr>\n",
              "    <tr>\n",
              "      <th>4</th>\n",
              "      <td>0393045218</td>\n",
              "      <td>The Mummies of Urumchi</td>\n",
              "      <td>E. J. W. Barber</td>\n",
              "      <td>1999.0</td>\n",
              "      <td>W. W. Norton &amp;amp; Company</td>\n",
              "    </tr>\n",
              "    <tr>\n",
              "      <th>...</th>\n",
              "      <td>...</td>\n",
              "      <td>...</td>\n",
              "      <td>...</td>\n",
              "      <td>...</td>\n",
              "      <td>...</td>\n",
              "    </tr>\n",
              "    <tr>\n",
              "      <th>242130</th>\n",
              "      <td>0449906736</td>\n",
              "      <td>Flashpoints: Promise and Peril in a New World</td>\n",
              "      <td>Robin Wright</td>\n",
              "      <td>1993.0</td>\n",
              "      <td>Ballantine Books</td>\n",
              "    </tr>\n",
              "    <tr>\n",
              "      <th>242131</th>\n",
              "      <td>0525447644</td>\n",
              "      <td>From One to One Hundred</td>\n",
              "      <td>Teri Sloat</td>\n",
              "      <td>1991.0</td>\n",
              "      <td>Dutton Books</td>\n",
              "    </tr>\n",
              "    <tr>\n",
              "      <th>242132</th>\n",
              "      <td>006008667X</td>\n",
              "      <td>Lily Dale : The True Story of the Town that Ta...</td>\n",
              "      <td>Christine Wicker</td>\n",
              "      <td>2004.0</td>\n",
              "      <td>HarperSanFrancisco</td>\n",
              "    </tr>\n",
              "    <tr>\n",
              "      <th>242133</th>\n",
              "      <td>0192126040</td>\n",
              "      <td>Republic (World's Classics)</td>\n",
              "      <td>Plato</td>\n",
              "      <td>1996.0</td>\n",
              "      <td>Oxford University Press</td>\n",
              "    </tr>\n",
              "    <tr>\n",
              "      <th>242134</th>\n",
              "      <td>0767409752</td>\n",
              "      <td>A Guided Tour of Rene Descartes' Meditations o...</td>\n",
              "      <td>Christopher  Biffle</td>\n",
              "      <td>2000.0</td>\n",
              "      <td>McGraw-Hill Humanities/Social Sciences/Languages</td>\n",
              "    </tr>\n",
              "  </tbody>\n",
              "</table>\n",
              "<p>242132 rows × 5 columns</p>\n",
              "</div>\n",
              "    <div class=\"colab-df-buttons\">\n",
              "\n",
              "  <div class=\"colab-df-container\">\n",
              "    <button class=\"colab-df-convert\" onclick=\"convertToInteractive('df-23ed8cad-fd2a-4aa0-abd7-f6638d33c5af')\"\n",
              "            title=\"Convert this dataframe to an interactive table.\"\n",
              "            style=\"display:none;\">\n",
              "\n",
              "  <svg xmlns=\"http://www.w3.org/2000/svg\" height=\"24px\" viewBox=\"0 -960 960 960\">\n",
              "    <path d=\"M120-120v-720h720v720H120Zm60-500h600v-160H180v160Zm220 220h160v-160H400v160Zm0 220h160v-160H400v160ZM180-400h160v-160H180v160Zm440 0h160v-160H620v160ZM180-180h160v-160H180v160Zm440 0h160v-160H620v160Z\"/>\n",
              "  </svg>\n",
              "    </button>\n",
              "\n",
              "  <style>\n",
              "    .colab-df-container {\n",
              "      display:flex;\n",
              "      gap: 12px;\n",
              "    }\n",
              "\n",
              "    .colab-df-convert {\n",
              "      background-color: #E8F0FE;\n",
              "      border: none;\n",
              "      border-radius: 50%;\n",
              "      cursor: pointer;\n",
              "      display: none;\n",
              "      fill: #1967D2;\n",
              "      height: 32px;\n",
              "      padding: 0 0 0 0;\n",
              "      width: 32px;\n",
              "    }\n",
              "\n",
              "    .colab-df-convert:hover {\n",
              "      background-color: #E2EBFA;\n",
              "      box-shadow: 0px 1px 2px rgba(60, 64, 67, 0.3), 0px 1px 3px 1px rgba(60, 64, 67, 0.15);\n",
              "      fill: #174EA6;\n",
              "    }\n",
              "\n",
              "    .colab-df-buttons div {\n",
              "      margin-bottom: 4px;\n",
              "    }\n",
              "\n",
              "    [theme=dark] .colab-df-convert {\n",
              "      background-color: #3B4455;\n",
              "      fill: #D2E3FC;\n",
              "    }\n",
              "\n",
              "    [theme=dark] .colab-df-convert:hover {\n",
              "      background-color: #434B5C;\n",
              "      box-shadow: 0px 1px 3px 1px rgba(0, 0, 0, 0.15);\n",
              "      filter: drop-shadow(0px 1px 2px rgba(0, 0, 0, 0.3));\n",
              "      fill: #FFFFFF;\n",
              "    }\n",
              "  </style>\n",
              "\n",
              "    <script>\n",
              "      const buttonEl =\n",
              "        document.querySelector('#df-23ed8cad-fd2a-4aa0-abd7-f6638d33c5af button.colab-df-convert');\n",
              "      buttonEl.style.display =\n",
              "        google.colab.kernel.accessAllowed ? 'block' : 'none';\n",
              "\n",
              "      async function convertToInteractive(key) {\n",
              "        const element = document.querySelector('#df-23ed8cad-fd2a-4aa0-abd7-f6638d33c5af');\n",
              "        const dataTable =\n",
              "          await google.colab.kernel.invokeFunction('convertToInteractive',\n",
              "                                                    [key], {});\n",
              "        if (!dataTable) return;\n",
              "\n",
              "        const docLinkHtml = 'Like what you see? Visit the ' +\n",
              "          '<a target=\"_blank\" href=https://colab.research.google.com/notebooks/data_table.ipynb>data table notebook</a>'\n",
              "          + ' to learn more about interactive tables.';\n",
              "        element.innerHTML = '';\n",
              "        dataTable['output_type'] = 'display_data';\n",
              "        await google.colab.output.renderOutput(dataTable, element);\n",
              "        const docLink = document.createElement('div');\n",
              "        docLink.innerHTML = docLinkHtml;\n",
              "        element.appendChild(docLink);\n",
              "      }\n",
              "    </script>\n",
              "  </div>\n",
              "\n",
              "\n",
              "    <div id=\"df-a2119d15-a020-4a19-959b-ada237c71e2b\">\n",
              "      <button class=\"colab-df-quickchart\" onclick=\"quickchart('df-a2119d15-a020-4a19-959b-ada237c71e2b')\"\n",
              "                title=\"Suggest charts\"\n",
              "                style=\"display:none;\">\n",
              "\n",
              "<svg xmlns=\"http://www.w3.org/2000/svg\" height=\"24px\"viewBox=\"0 0 24 24\"\n",
              "     width=\"24px\">\n",
              "    <g>\n",
              "        <path d=\"M19 3H5c-1.1 0-2 .9-2 2v14c0 1.1.9 2 2 2h14c1.1 0 2-.9 2-2V5c0-1.1-.9-2-2-2zM9 17H7v-7h2v7zm4 0h-2V7h2v10zm4 0h-2v-4h2v4z\"/>\n",
              "    </g>\n",
              "</svg>\n",
              "      </button>\n",
              "\n",
              "<style>\n",
              "  .colab-df-quickchart {\n",
              "      --bg-color: #E8F0FE;\n",
              "      --fill-color: #1967D2;\n",
              "      --hover-bg-color: #E2EBFA;\n",
              "      --hover-fill-color: #174EA6;\n",
              "      --disabled-fill-color: #AAA;\n",
              "      --disabled-bg-color: #DDD;\n",
              "  }\n",
              "\n",
              "  [theme=dark] .colab-df-quickchart {\n",
              "      --bg-color: #3B4455;\n",
              "      --fill-color: #D2E3FC;\n",
              "      --hover-bg-color: #434B5C;\n",
              "      --hover-fill-color: #FFFFFF;\n",
              "      --disabled-bg-color: #3B4455;\n",
              "      --disabled-fill-color: #666;\n",
              "  }\n",
              "\n",
              "  .colab-df-quickchart {\n",
              "    background-color: var(--bg-color);\n",
              "    border: none;\n",
              "    border-radius: 50%;\n",
              "    cursor: pointer;\n",
              "    display: none;\n",
              "    fill: var(--fill-color);\n",
              "    height: 32px;\n",
              "    padding: 0;\n",
              "    width: 32px;\n",
              "  }\n",
              "\n",
              "  .colab-df-quickchart:hover {\n",
              "    background-color: var(--hover-bg-color);\n",
              "    box-shadow: 0 1px 2px rgba(60, 64, 67, 0.3), 0 1px 3px 1px rgba(60, 64, 67, 0.15);\n",
              "    fill: var(--button-hover-fill-color);\n",
              "  }\n",
              "\n",
              "  .colab-df-quickchart-complete:disabled,\n",
              "  .colab-df-quickchart-complete:disabled:hover {\n",
              "    background-color: var(--disabled-bg-color);\n",
              "    fill: var(--disabled-fill-color);\n",
              "    box-shadow: none;\n",
              "  }\n",
              "\n",
              "  .colab-df-spinner {\n",
              "    border: 2px solid var(--fill-color);\n",
              "    border-color: transparent;\n",
              "    border-bottom-color: var(--fill-color);\n",
              "    animation:\n",
              "      spin 1s steps(1) infinite;\n",
              "  }\n",
              "\n",
              "  @keyframes spin {\n",
              "    0% {\n",
              "      border-color: transparent;\n",
              "      border-bottom-color: var(--fill-color);\n",
              "      border-left-color: var(--fill-color);\n",
              "    }\n",
              "    20% {\n",
              "      border-color: transparent;\n",
              "      border-left-color: var(--fill-color);\n",
              "      border-top-color: var(--fill-color);\n",
              "    }\n",
              "    30% {\n",
              "      border-color: transparent;\n",
              "      border-left-color: var(--fill-color);\n",
              "      border-top-color: var(--fill-color);\n",
              "      border-right-color: var(--fill-color);\n",
              "    }\n",
              "    40% {\n",
              "      border-color: transparent;\n",
              "      border-right-color: var(--fill-color);\n",
              "      border-top-color: var(--fill-color);\n",
              "    }\n",
              "    60% {\n",
              "      border-color: transparent;\n",
              "      border-right-color: var(--fill-color);\n",
              "    }\n",
              "    80% {\n",
              "      border-color: transparent;\n",
              "      border-right-color: var(--fill-color);\n",
              "      border-bottom-color: var(--fill-color);\n",
              "    }\n",
              "    90% {\n",
              "      border-color: transparent;\n",
              "      border-bottom-color: var(--fill-color);\n",
              "    }\n",
              "  }\n",
              "</style>\n",
              "\n",
              "      <script>\n",
              "        async function quickchart(key) {\n",
              "          const quickchartButtonEl =\n",
              "            document.querySelector('#' + key + ' button');\n",
              "          quickchartButtonEl.disabled = true;  // To prevent multiple clicks.\n",
              "          quickchartButtonEl.classList.add('colab-df-spinner');\n",
              "          try {\n",
              "            const charts = await google.colab.kernel.invokeFunction(\n",
              "                'suggestCharts', [key], {});\n",
              "          } catch (error) {\n",
              "            console.error('Error during call to suggestCharts:', error);\n",
              "          }\n",
              "          quickchartButtonEl.classList.remove('colab-df-spinner');\n",
              "          quickchartButtonEl.classList.add('colab-df-quickchart-complete');\n",
              "        }\n",
              "        (() => {\n",
              "          let quickchartButtonEl =\n",
              "            document.querySelector('#df-a2119d15-a020-4a19-959b-ada237c71e2b button');\n",
              "          quickchartButtonEl.style.display =\n",
              "            google.colab.kernel.accessAllowed ? 'block' : 'none';\n",
              "        })();\n",
              "      </script>\n",
              "    </div>\n",
              "\n",
              "  <div id=\"id_ee519ca7-72ba-42d7-bdc3-545be41847b3\">\n",
              "    <style>\n",
              "      .colab-df-generate {\n",
              "        background-color: #E8F0FE;\n",
              "        border: none;\n",
              "        border-radius: 50%;\n",
              "        cursor: pointer;\n",
              "        display: none;\n",
              "        fill: #1967D2;\n",
              "        height: 32px;\n",
              "        padding: 0 0 0 0;\n",
              "        width: 32px;\n",
              "      }\n",
              "\n",
              "      .colab-df-generate:hover {\n",
              "        background-color: #E2EBFA;\n",
              "        box-shadow: 0px 1px 2px rgba(60, 64, 67, 0.3), 0px 1px 3px 1px rgba(60, 64, 67, 0.15);\n",
              "        fill: #174EA6;\n",
              "      }\n",
              "\n",
              "      [theme=dark] .colab-df-generate {\n",
              "        background-color: #3B4455;\n",
              "        fill: #D2E3FC;\n",
              "      }\n",
              "\n",
              "      [theme=dark] .colab-df-generate:hover {\n",
              "        background-color: #434B5C;\n",
              "        box-shadow: 0px 1px 3px 1px rgba(0, 0, 0, 0.15);\n",
              "        filter: drop-shadow(0px 1px 2px rgba(0, 0, 0, 0.3));\n",
              "        fill: #FFFFFF;\n",
              "      }\n",
              "    </style>\n",
              "    <button class=\"colab-df-generate\" onclick=\"generateWithVariable('book')\"\n",
              "            title=\"Generate code using this dataframe.\"\n",
              "            style=\"display:none;\">\n",
              "\n",
              "  <svg xmlns=\"http://www.w3.org/2000/svg\" height=\"24px\"viewBox=\"0 0 24 24\"\n",
              "       width=\"24px\">\n",
              "    <path d=\"M7,19H8.4L18.45,9,17,7.55,7,17.6ZM5,21V16.75L18.45,3.32a2,2,0,0,1,2.83,0l1.4,1.43a1.91,1.91,0,0,1,.58,1.4,1.91,1.91,0,0,1-.58,1.4L9.25,21ZM18.45,9,17,7.55Zm-12,3A5.31,5.31,0,0,0,4.9,8.1,5.31,5.31,0,0,0,1,6.5,5.31,5.31,0,0,0,4.9,4.9,5.31,5.31,0,0,0,6.5,1,5.31,5.31,0,0,0,8.1,4.9,5.31,5.31,0,0,0,12,6.5,5.46,5.46,0,0,0,6.5,12Z\"/>\n",
              "  </svg>\n",
              "    </button>\n",
              "    <script>\n",
              "      (() => {\n",
              "      const buttonEl =\n",
              "        document.querySelector('#id_ee519ca7-72ba-42d7-bdc3-545be41847b3 button.colab-df-generate');\n",
              "      buttonEl.style.display =\n",
              "        google.colab.kernel.accessAllowed ? 'block' : 'none';\n",
              "\n",
              "      buttonEl.onclick = () => {\n",
              "        google.colab.notebook.generateWithVariable('book');\n",
              "      }\n",
              "      })();\n",
              "    </script>\n",
              "  </div>\n",
              "\n",
              "    </div>\n",
              "  </div>\n"
            ],
            "application/vnd.google.colaboratory.intrinsic+json": {
              "type": "dataframe",
              "variable_name": "book"
            }
          },
          "metadata": {},
          "execution_count": 30
        }
      ],
      "source": [
        "book"
      ]
    },
    {
      "cell_type": "markdown",
      "source": [
        "Melakukan Filter pada dataset rating untuk persiapan Collaborative Filtering"
      ],
      "metadata": {
        "id": "Y6wp1fYVZ9Ws"
      }
    },
    {
      "cell_type": "code",
      "execution_count": 31,
      "metadata": {
        "id": "0V6iiLnU4iRw"
      },
      "outputs": [],
      "source": [
        "filtered_ratings = rating[\n",
        "    (rating['User-ID'].isin(rating['User-ID'].value_counts()[rating['User-ID'].value_counts() > 20].index)) &\n",
        "    (rating['ISBN'].isin(rating['ISBN'].value_counts()[rating['ISBN'].value_counts() > 20].index))\n",
        "]"
      ]
    },
    {
      "cell_type": "code",
      "execution_count": 32,
      "metadata": {
        "colab": {
          "base_uri": "https://localhost:8080/",
          "height": 424
        },
        "id": "g-XOIltq6BmP",
        "outputId": "e97440c5-5a02-4628-8493-71c07e7da77b"
      },
      "outputs": [
        {
          "output_type": "execute_result",
          "data": {
            "text/plain": [
              "         User-ID        ISBN  Book-Rating\n",
              "33        276762  0380711524            5\n",
              "34        276762  0451167317            0\n",
              "173       276847  0446364193            0\n",
              "175       276847  3379015180            0\n",
              "182       276847  3426029553            8\n",
              "...          ...         ...          ...\n",
              "1149737   276688  0688143687            0\n",
              "1149738   276688  0688156134            8\n",
              "1149743   276688  0836218655           10\n",
              "1149744   276688  0836236688           10\n",
              "1149746   276688  1551669315            6\n",
              "\n",
              "[282829 rows x 3 columns]"
            ],
            "text/html": [
              "\n",
              "  <div id=\"df-1cd8f8fe-e986-4545-bf67-019592ee6069\" class=\"colab-df-container\">\n",
              "    <div>\n",
              "<style scoped>\n",
              "    .dataframe tbody tr th:only-of-type {\n",
              "        vertical-align: middle;\n",
              "    }\n",
              "\n",
              "    .dataframe tbody tr th {\n",
              "        vertical-align: top;\n",
              "    }\n",
              "\n",
              "    .dataframe thead th {\n",
              "        text-align: right;\n",
              "    }\n",
              "</style>\n",
              "<table border=\"1\" class=\"dataframe\">\n",
              "  <thead>\n",
              "    <tr style=\"text-align: right;\">\n",
              "      <th></th>\n",
              "      <th>User-ID</th>\n",
              "      <th>ISBN</th>\n",
              "      <th>Book-Rating</th>\n",
              "    </tr>\n",
              "  </thead>\n",
              "  <tbody>\n",
              "    <tr>\n",
              "      <th>33</th>\n",
              "      <td>276762</td>\n",
              "      <td>0380711524</td>\n",
              "      <td>5</td>\n",
              "    </tr>\n",
              "    <tr>\n",
              "      <th>34</th>\n",
              "      <td>276762</td>\n",
              "      <td>0451167317</td>\n",
              "      <td>0</td>\n",
              "    </tr>\n",
              "    <tr>\n",
              "      <th>173</th>\n",
              "      <td>276847</td>\n",
              "      <td>0446364193</td>\n",
              "      <td>0</td>\n",
              "    </tr>\n",
              "    <tr>\n",
              "      <th>175</th>\n",
              "      <td>276847</td>\n",
              "      <td>3379015180</td>\n",
              "      <td>0</td>\n",
              "    </tr>\n",
              "    <tr>\n",
              "      <th>182</th>\n",
              "      <td>276847</td>\n",
              "      <td>3426029553</td>\n",
              "      <td>8</td>\n",
              "    </tr>\n",
              "    <tr>\n",
              "      <th>...</th>\n",
              "      <td>...</td>\n",
              "      <td>...</td>\n",
              "      <td>...</td>\n",
              "    </tr>\n",
              "    <tr>\n",
              "      <th>1149737</th>\n",
              "      <td>276688</td>\n",
              "      <td>0688143687</td>\n",
              "      <td>0</td>\n",
              "    </tr>\n",
              "    <tr>\n",
              "      <th>1149738</th>\n",
              "      <td>276688</td>\n",
              "      <td>0688156134</td>\n",
              "      <td>8</td>\n",
              "    </tr>\n",
              "    <tr>\n",
              "      <th>1149743</th>\n",
              "      <td>276688</td>\n",
              "      <td>0836218655</td>\n",
              "      <td>10</td>\n",
              "    </tr>\n",
              "    <tr>\n",
              "      <th>1149744</th>\n",
              "      <td>276688</td>\n",
              "      <td>0836236688</td>\n",
              "      <td>10</td>\n",
              "    </tr>\n",
              "    <tr>\n",
              "      <th>1149746</th>\n",
              "      <td>276688</td>\n",
              "      <td>1551669315</td>\n",
              "      <td>6</td>\n",
              "    </tr>\n",
              "  </tbody>\n",
              "</table>\n",
              "<p>282829 rows × 3 columns</p>\n",
              "</div>\n",
              "    <div class=\"colab-df-buttons\">\n",
              "\n",
              "  <div class=\"colab-df-container\">\n",
              "    <button class=\"colab-df-convert\" onclick=\"convertToInteractive('df-1cd8f8fe-e986-4545-bf67-019592ee6069')\"\n",
              "            title=\"Convert this dataframe to an interactive table.\"\n",
              "            style=\"display:none;\">\n",
              "\n",
              "  <svg xmlns=\"http://www.w3.org/2000/svg\" height=\"24px\" viewBox=\"0 -960 960 960\">\n",
              "    <path d=\"M120-120v-720h720v720H120Zm60-500h600v-160H180v160Zm220 220h160v-160H400v160Zm0 220h160v-160H400v160ZM180-400h160v-160H180v160Zm440 0h160v-160H620v160ZM180-180h160v-160H180v160Zm440 0h160v-160H620v160Z\"/>\n",
              "  </svg>\n",
              "    </button>\n",
              "\n",
              "  <style>\n",
              "    .colab-df-container {\n",
              "      display:flex;\n",
              "      gap: 12px;\n",
              "    }\n",
              "\n",
              "    .colab-df-convert {\n",
              "      background-color: #E8F0FE;\n",
              "      border: none;\n",
              "      border-radius: 50%;\n",
              "      cursor: pointer;\n",
              "      display: none;\n",
              "      fill: #1967D2;\n",
              "      height: 32px;\n",
              "      padding: 0 0 0 0;\n",
              "      width: 32px;\n",
              "    }\n",
              "\n",
              "    .colab-df-convert:hover {\n",
              "      background-color: #E2EBFA;\n",
              "      box-shadow: 0px 1px 2px rgba(60, 64, 67, 0.3), 0px 1px 3px 1px rgba(60, 64, 67, 0.15);\n",
              "      fill: #174EA6;\n",
              "    }\n",
              "\n",
              "    .colab-df-buttons div {\n",
              "      margin-bottom: 4px;\n",
              "    }\n",
              "\n",
              "    [theme=dark] .colab-df-convert {\n",
              "      background-color: #3B4455;\n",
              "      fill: #D2E3FC;\n",
              "    }\n",
              "\n",
              "    [theme=dark] .colab-df-convert:hover {\n",
              "      background-color: #434B5C;\n",
              "      box-shadow: 0px 1px 3px 1px rgba(0, 0, 0, 0.15);\n",
              "      filter: drop-shadow(0px 1px 2px rgba(0, 0, 0, 0.3));\n",
              "      fill: #FFFFFF;\n",
              "    }\n",
              "  </style>\n",
              "\n",
              "    <script>\n",
              "      const buttonEl =\n",
              "        document.querySelector('#df-1cd8f8fe-e986-4545-bf67-019592ee6069 button.colab-df-convert');\n",
              "      buttonEl.style.display =\n",
              "        google.colab.kernel.accessAllowed ? 'block' : 'none';\n",
              "\n",
              "      async function convertToInteractive(key) {\n",
              "        const element = document.querySelector('#df-1cd8f8fe-e986-4545-bf67-019592ee6069');\n",
              "        const dataTable =\n",
              "          await google.colab.kernel.invokeFunction('convertToInteractive',\n",
              "                                                    [key], {});\n",
              "        if (!dataTable) return;\n",
              "\n",
              "        const docLinkHtml = 'Like what you see? Visit the ' +\n",
              "          '<a target=\"_blank\" href=https://colab.research.google.com/notebooks/data_table.ipynb>data table notebook</a>'\n",
              "          + ' to learn more about interactive tables.';\n",
              "        element.innerHTML = '';\n",
              "        dataTable['output_type'] = 'display_data';\n",
              "        await google.colab.output.renderOutput(dataTable, element);\n",
              "        const docLink = document.createElement('div');\n",
              "        docLink.innerHTML = docLinkHtml;\n",
              "        element.appendChild(docLink);\n",
              "      }\n",
              "    </script>\n",
              "  </div>\n",
              "\n",
              "\n",
              "    <div id=\"df-2e1a0e02-143c-48f2-989d-f20f6493e518\">\n",
              "      <button class=\"colab-df-quickchart\" onclick=\"quickchart('df-2e1a0e02-143c-48f2-989d-f20f6493e518')\"\n",
              "                title=\"Suggest charts\"\n",
              "                style=\"display:none;\">\n",
              "\n",
              "<svg xmlns=\"http://www.w3.org/2000/svg\" height=\"24px\"viewBox=\"0 0 24 24\"\n",
              "     width=\"24px\">\n",
              "    <g>\n",
              "        <path d=\"M19 3H5c-1.1 0-2 .9-2 2v14c0 1.1.9 2 2 2h14c1.1 0 2-.9 2-2V5c0-1.1-.9-2-2-2zM9 17H7v-7h2v7zm4 0h-2V7h2v10zm4 0h-2v-4h2v4z\"/>\n",
              "    </g>\n",
              "</svg>\n",
              "      </button>\n",
              "\n",
              "<style>\n",
              "  .colab-df-quickchart {\n",
              "      --bg-color: #E8F0FE;\n",
              "      --fill-color: #1967D2;\n",
              "      --hover-bg-color: #E2EBFA;\n",
              "      --hover-fill-color: #174EA6;\n",
              "      --disabled-fill-color: #AAA;\n",
              "      --disabled-bg-color: #DDD;\n",
              "  }\n",
              "\n",
              "  [theme=dark] .colab-df-quickchart {\n",
              "      --bg-color: #3B4455;\n",
              "      --fill-color: #D2E3FC;\n",
              "      --hover-bg-color: #434B5C;\n",
              "      --hover-fill-color: #FFFFFF;\n",
              "      --disabled-bg-color: #3B4455;\n",
              "      --disabled-fill-color: #666;\n",
              "  }\n",
              "\n",
              "  .colab-df-quickchart {\n",
              "    background-color: var(--bg-color);\n",
              "    border: none;\n",
              "    border-radius: 50%;\n",
              "    cursor: pointer;\n",
              "    display: none;\n",
              "    fill: var(--fill-color);\n",
              "    height: 32px;\n",
              "    padding: 0;\n",
              "    width: 32px;\n",
              "  }\n",
              "\n",
              "  .colab-df-quickchart:hover {\n",
              "    background-color: var(--hover-bg-color);\n",
              "    box-shadow: 0 1px 2px rgba(60, 64, 67, 0.3), 0 1px 3px 1px rgba(60, 64, 67, 0.15);\n",
              "    fill: var(--button-hover-fill-color);\n",
              "  }\n",
              "\n",
              "  .colab-df-quickchart-complete:disabled,\n",
              "  .colab-df-quickchart-complete:disabled:hover {\n",
              "    background-color: var(--disabled-bg-color);\n",
              "    fill: var(--disabled-fill-color);\n",
              "    box-shadow: none;\n",
              "  }\n",
              "\n",
              "  .colab-df-spinner {\n",
              "    border: 2px solid var(--fill-color);\n",
              "    border-color: transparent;\n",
              "    border-bottom-color: var(--fill-color);\n",
              "    animation:\n",
              "      spin 1s steps(1) infinite;\n",
              "  }\n",
              "\n",
              "  @keyframes spin {\n",
              "    0% {\n",
              "      border-color: transparent;\n",
              "      border-bottom-color: var(--fill-color);\n",
              "      border-left-color: var(--fill-color);\n",
              "    }\n",
              "    20% {\n",
              "      border-color: transparent;\n",
              "      border-left-color: var(--fill-color);\n",
              "      border-top-color: var(--fill-color);\n",
              "    }\n",
              "    30% {\n",
              "      border-color: transparent;\n",
              "      border-left-color: var(--fill-color);\n",
              "      border-top-color: var(--fill-color);\n",
              "      border-right-color: var(--fill-color);\n",
              "    }\n",
              "    40% {\n",
              "      border-color: transparent;\n",
              "      border-right-color: var(--fill-color);\n",
              "      border-top-color: var(--fill-color);\n",
              "    }\n",
              "    60% {\n",
              "      border-color: transparent;\n",
              "      border-right-color: var(--fill-color);\n",
              "    }\n",
              "    80% {\n",
              "      border-color: transparent;\n",
              "      border-right-color: var(--fill-color);\n",
              "      border-bottom-color: var(--fill-color);\n",
              "    }\n",
              "    90% {\n",
              "      border-color: transparent;\n",
              "      border-bottom-color: var(--fill-color);\n",
              "    }\n",
              "  }\n",
              "</style>\n",
              "\n",
              "      <script>\n",
              "        async function quickchart(key) {\n",
              "          const quickchartButtonEl =\n",
              "            document.querySelector('#' + key + ' button');\n",
              "          quickchartButtonEl.disabled = true;  // To prevent multiple clicks.\n",
              "          quickchartButtonEl.classList.add('colab-df-spinner');\n",
              "          try {\n",
              "            const charts = await google.colab.kernel.invokeFunction(\n",
              "                'suggestCharts', [key], {});\n",
              "          } catch (error) {\n",
              "            console.error('Error during call to suggestCharts:', error);\n",
              "          }\n",
              "          quickchartButtonEl.classList.remove('colab-df-spinner');\n",
              "          quickchartButtonEl.classList.add('colab-df-quickchart-complete');\n",
              "        }\n",
              "        (() => {\n",
              "          let quickchartButtonEl =\n",
              "            document.querySelector('#df-2e1a0e02-143c-48f2-989d-f20f6493e518 button');\n",
              "          quickchartButtonEl.style.display =\n",
              "            google.colab.kernel.accessAllowed ? 'block' : 'none';\n",
              "        })();\n",
              "      </script>\n",
              "    </div>\n",
              "\n",
              "  <div id=\"id_69dda1b2-78c8-47df-864c-49f123228824\">\n",
              "    <style>\n",
              "      .colab-df-generate {\n",
              "        background-color: #E8F0FE;\n",
              "        border: none;\n",
              "        border-radius: 50%;\n",
              "        cursor: pointer;\n",
              "        display: none;\n",
              "        fill: #1967D2;\n",
              "        height: 32px;\n",
              "        padding: 0 0 0 0;\n",
              "        width: 32px;\n",
              "      }\n",
              "\n",
              "      .colab-df-generate:hover {\n",
              "        background-color: #E2EBFA;\n",
              "        box-shadow: 0px 1px 2px rgba(60, 64, 67, 0.3), 0px 1px 3px 1px rgba(60, 64, 67, 0.15);\n",
              "        fill: #174EA6;\n",
              "      }\n",
              "\n",
              "      [theme=dark] .colab-df-generate {\n",
              "        background-color: #3B4455;\n",
              "        fill: #D2E3FC;\n",
              "      }\n",
              "\n",
              "      [theme=dark] .colab-df-generate:hover {\n",
              "        background-color: #434B5C;\n",
              "        box-shadow: 0px 1px 3px 1px rgba(0, 0, 0, 0.15);\n",
              "        filter: drop-shadow(0px 1px 2px rgba(0, 0, 0, 0.3));\n",
              "        fill: #FFFFFF;\n",
              "      }\n",
              "    </style>\n",
              "    <button class=\"colab-df-generate\" onclick=\"generateWithVariable('filtered_ratings')\"\n",
              "            title=\"Generate code using this dataframe.\"\n",
              "            style=\"display:none;\">\n",
              "\n",
              "  <svg xmlns=\"http://www.w3.org/2000/svg\" height=\"24px\"viewBox=\"0 0 24 24\"\n",
              "       width=\"24px\">\n",
              "    <path d=\"M7,19H8.4L18.45,9,17,7.55,7,17.6ZM5,21V16.75L18.45,3.32a2,2,0,0,1,2.83,0l1.4,1.43a1.91,1.91,0,0,1,.58,1.4,1.91,1.91,0,0,1-.58,1.4L9.25,21ZM18.45,9,17,7.55Zm-12,3A5.31,5.31,0,0,0,4.9,8.1,5.31,5.31,0,0,0,1,6.5,5.31,5.31,0,0,0,4.9,4.9,5.31,5.31,0,0,0,6.5,1,5.31,5.31,0,0,0,8.1,4.9,5.31,5.31,0,0,0,12,6.5,5.46,5.46,0,0,0,6.5,12Z\"/>\n",
              "  </svg>\n",
              "    </button>\n",
              "    <script>\n",
              "      (() => {\n",
              "      const buttonEl =\n",
              "        document.querySelector('#id_69dda1b2-78c8-47df-864c-49f123228824 button.colab-df-generate');\n",
              "      buttonEl.style.display =\n",
              "        google.colab.kernel.accessAllowed ? 'block' : 'none';\n",
              "\n",
              "      buttonEl.onclick = () => {\n",
              "        google.colab.notebook.generateWithVariable('filtered_ratings');\n",
              "      }\n",
              "      })();\n",
              "    </script>\n",
              "  </div>\n",
              "\n",
              "    </div>\n",
              "  </div>\n"
            ],
            "application/vnd.google.colaboratory.intrinsic+json": {
              "type": "dataframe",
              "variable_name": "filtered_ratings"
            }
          },
          "metadata": {},
          "execution_count": 32
        }
      ],
      "source": [
        "filtered_ratings"
      ]
    },
    {
      "cell_type": "markdown",
      "metadata": {
        "id": "ZllcA5WMox0g"
      },
      "source": [
        "##Model Development dengan Content Based Filtering dengan Word2Vec"
      ]
    },
    {
      "cell_type": "markdown",
      "source": [
        "Memisahkan variabel variabel yang akan dibutuhkan untuk model"
      ],
      "metadata": {
        "id": "VkqqdoLUaVPe"
      }
    },
    {
      "cell_type": "code",
      "source": [
        "text_data = book['Book-Title'] + ' ' + book['Book-Author'] + ' ' + book['Publisher']"
      ],
      "metadata": {
        "id": "ZjdZ4p5jaRvd"
      },
      "execution_count": 33,
      "outputs": []
    },
    {
      "cell_type": "markdown",
      "source": [
        "Tokenize dan train Word2Vec"
      ],
      "metadata": {
        "id": "XY5G1AScai8y"
      }
    },
    {
      "cell_type": "code",
      "source": [
        "sentences = [text.split() for text in text_data]\n",
        "model = Word2Vec(sentences, vector_size=100, window=5, min_count=1)\n"
      ],
      "metadata": {
        "id": "9X4hztz4aha0"
      },
      "execution_count": 34,
      "outputs": []
    },
    {
      "cell_type": "markdown",
      "source": [
        "Fungsi untuk mencari kesamaan buku berdasarkan hasil embedding Word2Vec"
      ],
      "metadata": {
        "id": "-8fDdN0xasDN"
      }
    },
    {
      "cell_type": "code",
      "execution_count": 35,
      "metadata": {
        "id": "HlmEw9agDt-3"
      },
      "outputs": [],
      "source": [
        "def get_book_recommendations(title_input, top_n=10, return_similarities=False):\n",
        "    title_vector = np.mean(\n",
        "        [model.wv[word] for word in title_input.split() if word in model.wv], axis=0\n",
        "    )\n",
        "\n",
        "    similarities = []\n",
        "    for idx, row in book.iterrows():\n",
        "        book_title = row['Book-Title']\n",
        "        book_vector = np.mean(\n",
        "            [model.wv[word] for word in book_title.split() if word in model.wv], axis=0\n",
        "        )\n",
        "        if book_vector is not None and not np.isnan(book_vector).any():\n",
        "            similarity = cosine_similarity([title_vector], [book_vector])[0][0]\n",
        "            similarities.append((idx, similarity))\n",
        "\n",
        "    similarities = sorted(similarities, key=lambda x: x[1], reverse=True)\n",
        "\n",
        "    recommended = similarities[:top_n]\n",
        "\n",
        "    result = []\n",
        "    for idx, score in recommended:\n",
        "        result.append({\n",
        "            'ISBN': book.iloc[idx]['ISBN'],\n",
        "            'Title': book.iloc[idx]['Book-Title'],\n",
        "            'Author': book.iloc[idx]['Book-Author'],\n",
        "            'Publisher': book.iloc[idx]['Publisher'],\n",
        "            'Similarity Score': round(score, 5)\n",
        "        })\n",
        "\n",
        "    result_df = pd.DataFrame(result)\n",
        "\n",
        "    if return_similarities:\n",
        "        return result_df, similarities\n",
        "    else:\n",
        "        return result_df\n"
      ]
    },
    {
      "cell_type": "markdown",
      "source": [
        "Memanggil fungsi rekomendasi yang telah dibuat"
      ],
      "metadata": {
        "id": "LGJQ_njObAyu"
      }
    },
    {
      "cell_type": "code",
      "execution_count": 36,
      "metadata": {
        "colab": {
          "base_uri": "https://localhost:8080/"
        },
        "id": "r0b5YkLxHbUf",
        "outputId": "9d201cd9-a736-4a2e-aa48-21fa7ab3eced"
      },
      "outputs": [
        {
          "output_type": "stream",
          "name": "stdout",
          "text": [
            "         ISBN                    Title            Author  \\\n",
            "0  0393045218   The Mummies of Urumchi   E. J. W. Barber   \n",
            "1  3791535714     Die SchildbÃ?Â¼rger.  Erich KÃ?Â¤stner   \n",
            "2  033037401X  Midwinter of the Spirit      Phil Rickman   \n",
            "3  0965813509      The throne of bones  Brian McNaughton   \n",
            "4  0316734500  The Bookseller of Kabul    Asne Seierstad   \n",
            "\n",
            "                    Publisher  Similarity Score  \n",
            "0  W. W. Norton &amp; Company           1.00000  \n",
            "1             Dressler Verlag           0.99991  \n",
            "2              Pan Publishing           0.99990  \n",
            "3             Terminal Fright           0.99990  \n",
            "4               Little, Brown           0.99990  \n"
          ]
        }
      ],
      "source": [
        "recommended_books = get_book_recommendations(\"The Mummies of Urumchi\", top_n=5)\n",
        "print(recommended_books)"
      ]
    },
    {
      "cell_type": "markdown",
      "source": [
        "Sistem rekomendasi berbasis content-based filtering berhasil menghasilkan daftar buku yang sangat relevan dengan buku inputan \"The Mummies of Urumchi\" karya E. J. W. Barber.\n",
        "Rekomendasi ini didasarkan pada kesamaan fitur teks, yaitu kombinasi judul buku, nama penulis dan publisher, yang kemudian dianalisis menggunakan model Word2Vec."
      ],
      "metadata": {
        "id": "ad0OhSrohIMi"
      }
    },
    {
      "cell_type": "markdown",
      "metadata": {
        "id": "TJ9_ThVco5aG"
      },
      "source": [
        "##Model Development dengan Collaborative Filtering"
      ]
    },
    {
      "cell_type": "markdown",
      "source": [
        "Menyiapkan data"
      ],
      "metadata": {
        "id": "5-wSfvRVi6c2"
      }
    },
    {
      "cell_type": "code",
      "source": [
        "reader = Reader(rating_scale=(0, 10))\n",
        "data = Dataset.load_from_df(filtered_ratings[['User-ID', 'ISBN', 'Book-Rating']], reader)\n",
        "\n",
        "trainset, testset = train_test_split(data, test_size=0.2, random_state=42)"
      ],
      "metadata": {
        "id": "aPqvjGfsi-0L"
      },
      "execution_count": 37,
      "outputs": []
    },
    {
      "cell_type": "markdown",
      "source": [
        "Hyperparameter tuning (grid search)"
      ],
      "metadata": {
        "id": "dQIL3U5ljKv9"
      }
    },
    {
      "cell_type": "code",
      "source": [
        "param_grid = {\n",
        "    'n_factors': [50, 100],\n",
        "    'lr_all': [0.005, 0.01],\n",
        "    'reg_all': [0.02, 0.1]\n",
        "}\n",
        "\n",
        "gs = GridSearchCV(SVD, param_grid, measures=['rmse'], cv=3, n_jobs=-1)\n",
        "gs.fit(data)"
      ],
      "metadata": {
        "id": "72FID-SJjLRA"
      },
      "execution_count": 38,
      "outputs": []
    },
    {
      "cell_type": "markdown",
      "source": [
        "Memilih Model terbaik"
      ],
      "metadata": {
        "id": "7MPv7KQJjYbw"
      }
    },
    {
      "cell_type": "code",
      "source": [
        "print(\"Best RMSE:\", gs.best_score['rmse'])\n",
        "print(\"Best Params:\", gs.best_params['rmse'])"
      ],
      "metadata": {
        "id": "m38eeRHGjWCc",
        "colab": {
          "base_uri": "https://localhost:8080/"
        },
        "outputId": "94df20a0-299a-4de0-8eef-bb788de68a73"
      },
      "execution_count": 39,
      "outputs": [
        {
          "output_type": "stream",
          "name": "stdout",
          "text": [
            "Best RMSE: 3.4880839235887007\n",
            "Best Params: {'n_factors': 100, 'lr_all': 0.005, 'reg_all': 0.1}\n"
          ]
        }
      ]
    },
    {
      "cell_type": "markdown",
      "source": [
        "Train SVD dengan parameter dan RMSE terbaik"
      ],
      "metadata": {
        "id": "l4d3snHxjcsq"
      }
    },
    {
      "cell_type": "code",
      "execution_count": 40,
      "metadata": {
        "id": "5hQ0csx18AKb",
        "colab": {
          "base_uri": "https://localhost:8080/"
        },
        "outputId": "f4e232ad-36e9-497d-ff07-ff785d430e2a"
      },
      "outputs": [
        {
          "output_type": "execute_result",
          "data": {
            "text/plain": [
              "<surprise.prediction_algorithms.matrix_factorization.SVD at 0x7b3d57f1c050>"
            ]
          },
          "metadata": {},
          "execution_count": 40
        }
      ],
      "source": [
        "svd_best = gs.best_estimator['rmse']\n",
        "svd_best.fit(trainset)"
      ]
    },
    {
      "cell_type": "markdown",
      "source": [
        "Fungsi rekomendaasi"
      ],
      "metadata": {
        "id": "U6U3nbSNjgwa"
      }
    },
    {
      "cell_type": "code",
      "source": [
        "def recommend_books_for_user(user_id, model, book_df, n_recommendations=5):\n",
        "    all_isbn = book_df['ISBN'].unique()\n",
        "    predictions = []\n",
        "    for isbn in all_isbn:\n",
        "        try:\n",
        "            pred = model.predict(user_id, isbn)\n",
        "            predictions.append((isbn, pred.est))\n",
        "        except:\n",
        "            continue\n",
        "\n",
        "    top_predictions = sorted(predictions, key=lambda x: x[1], reverse=True)[:n_recommendations]\n",
        "    recommended_isbn = [isbn for isbn, _ in top_predictions]\n",
        "    estimated_rating = [round(rating, 2) for _, rating in top_predictions]\n",
        "    recommended_books = book_df[book_df['ISBN'].isin(recommended_isbn)][['ISBN', 'Book-Title', 'Book-Author', 'Year-Of-Publication', 'Publisher']]\n",
        "    recommended_books = recommended_books.set_index('ISBN').loc[recommended_isbn].reset_index()\n",
        "    recommended_books['Predicted-Rating'] = estimated_rating\n",
        "    return recommended_books\n"
      ],
      "metadata": {
        "id": "-cctR4Kc3z-A"
      },
      "execution_count": 41,
      "outputs": []
    },
    {
      "cell_type": "markdown",
      "source": [
        "Memanggil fungsi"
      ],
      "metadata": {
        "id": "rfJqXZY3jtHa"
      }
    },
    {
      "cell_type": "code",
      "source": [
        "sample_user_id = filtered_ratings['User-ID'].sample(1).values[0]\n",
        "print(f\"Sample user ID: {sample_user_id}\")\n",
        "\n",
        "recommendations = recommend_books_for_user(sample_user_id, svd_best, book, n_recommendations=5)\n",
        "print(recommendations)"
      ],
      "metadata": {
        "colab": {
          "base_uri": "https://localhost:8080/"
        },
        "id": "W-rAidZO4L7Z",
        "outputId": "91ea27d9-c338-4e58-dfb3-132996d98e1c"
      },
      "execution_count": 42,
      "outputs": [
        {
          "output_type": "stream",
          "name": "stdout",
          "text": [
            "Sample user ID: 11676\n",
            "         ISBN                                         Book-Title  \\\n",
            "0  193156146X                           The Time Traveler's Wife   \n",
            "1  0553582143                                       Body of Lies   \n",
            "2  0345413881       Dr. Death (Alex Delaware Novels (Paperback))   \n",
            "3  0380720132  The Mystery of the Cupboard (Indian in the Cup...   \n",
            "4  2253044903                Le Parfum : Histoire d'un meurtrier   \n",
            "\n",
            "          Book-Author  Year-Of-Publication                Publisher  \\\n",
            "0  Audrey Niffenegger               2003.0  MacAdam/Cage Publishing   \n",
            "1       IRIS JOHANSEN               2003.0                   Bantam   \n",
            "2  Jonathan Kellerman               2001.0         Ballantine Books   \n",
            "3    Lynne Reid Banks               1999.0             HarperTrophy   \n",
            "4  Patrick SÃ?Â¼skind               1988.0                      LGF   \n",
            "\n",
            "   Predicted-Rating  \n",
            "0             10.00  \n",
            "1             10.00  \n",
            "2             10.00  \n",
            "3              9.99  \n",
            "4              9.95  \n"
          ]
        }
      ]
    },
    {
      "cell_type": "code",
      "source": [],
      "metadata": {
        "id": "1Dpcj20T8ytd"
      },
      "execution_count": 42,
      "outputs": []
    }
  ],
  "metadata": {
    "colab": {
      "provenance": []
    },
    "kernelspec": {
      "display_name": "Python 3",
      "name": "python3"
    },
    "language_info": {
      "name": "python"
    }
  },
  "nbformat": 4,
  "nbformat_minor": 0
}